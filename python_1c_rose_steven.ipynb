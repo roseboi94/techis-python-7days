{
  "nbformat": 4,
  "nbformat_minor": 0,
  "metadata": {
    "colab": {
      "name": "python_1c_rose_steven.ipynb",
      "provenance": [],
      "collapsed_sections": [],
      "authorship_tag": "ABX9TyOSurMZVeqH8nTmv/te6VXB",
      "include_colab_link": true
    },
    "kernelspec": {
      "name": "python3",
      "display_name": "Python 3"
    },
    "language_info": {
      "name": "python"
    }
  },
  "cells": [
    {
      "cell_type": "markdown",
      "metadata": {
        "id": "view-in-github",
        "colab_type": "text"
      },
      "source": [
        "<a href=\"https://colab.research.google.com/github/roseboi94/techis-python-7days/blob/main/python_1c_rose_steven.ipynb\" target=\"_parent\"><img src=\"https://colab.research.google.com/assets/colab-badge.svg\" alt=\"Open In Colab\"/></a>"
      ]
    },
    {
      "cell_type": "code",
      "execution_count": null,
      "metadata": {
        "id": "5PUyQUcKDf8p",
        "colab": {
          "base_uri": "https://localhost:8080/"
        },
        "outputId": "f1cd460b-54fc-4393-b859-a514409aba69"
      },
      "outputs": [
        {
          "output_type": "stream",
          "name": "stdout",
          "text": [
            "7\n",
            "7\n",
            "3.77\n",
            "3.77\n",
            "['egg', 'milk', 'mango']\n",
            "Enter a Number Choice between 1 and 10 :  7\n",
            "This number is odd!\n",
            "1\n",
            "12\n",
            "123\n",
            "1234\n",
            "12345\n",
            "Enter your Name please:  6\n",
            "6\n",
            "enter principle amount:  120000\n",
            "Enter for how long:  6\n",
            "enter rate of intrest:  5\n",
            "36000.0\n"
          ]
        }
      ],
      "source": [
        "# Excercise  1#\n",
        "x = 7\n",
        "print(x)\n",
        "print(str(x))\n",
        "\n",
        "discount = '3.77'\n",
        "print(discount)\n",
        "print(float(discount))\n",
        "\n",
        "grocery = [\"egg\" ,\"milk\",\"mango\" ]\n",
        "print(list(grocery))\n",
        "\n",
        "# Excercise  2#\n",
        "\n",
        "\n",
        "\n",
        "x = int(input(\"Enter a Number Choice between 1 and 10 :  \"))\n",
        "if x == 1:\n",
        "  print(\"This number is odd!\")\n",
        "\n",
        "elif x == 2:\n",
        "  print(\"This number is even!\")\n",
        "\n",
        "elif x == 3:\n",
        "  print(\"This number is odd!\")\n",
        "\n",
        "elif x == 4:  \n",
        "  print(\"This number is even!\")\n",
        "\n",
        "elif x == 5:\n",
        "  print(\"This number is odd!\")\n",
        "\n",
        "elif x == 6:\n",
        "  print(\"This number is even!\")\n",
        "\n",
        "elif x == 7:\n",
        "  print(\"This number is odd!\")\n",
        "\n",
        "elif x == 8:\n",
        "  print(\"This number is even!\")\n",
        "\n",
        "elif x == 9:\n",
        "  print(\"This number is odd!\")\n",
        "\n",
        "elif x == 10:\n",
        "  print(\"This number is even!\")\n",
        "\n",
        "else:\n",
        "  print(\"This is not a valid number\")\n",
        "\n",
        "\n",
        "# Excercise  3#\n",
        "while x == range(4,100):\n",
        "  print(int(x))\n",
        "\n",
        "\n",
        "  break\n",
        "\n",
        "\n",
        " \n",
        "  \n",
        "\n",
        "\n",
        "\n",
        "\n",
        "# Excercise  4#\n",
        "number_list = 1, 12, 123, 1234, 12345\n",
        "\n",
        "for number in number_list:\n",
        "  print(number)\n",
        "\n",
        "# Excercise  5#\n",
        "user_name = str(input(\"Enter your Name please:  \"))\n",
        "\n",
        "if str(user_name) is int(user_name):\n",
        "    raise TypeError(\"Type in your name properly\")\n",
        "\n",
        "else:\n",
        "    print(user_name)\n",
        "\n",
        "# Excercise  6#\n",
        "p = float(input(\"enter principle amount:  \"))\n",
        "n = float(input(\"Enter for how long:  \"))\n",
        "r = float(input(\"enter rate of intrest:  \"))\n",
        "i = (p*n*r)/100\n",
        "\n",
        "print(i)\n",
        "\n",
        "\n",
        "\n",
        "\n"
      ]
    }
  ]
}
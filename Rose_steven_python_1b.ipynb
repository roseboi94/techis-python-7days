{
  "nbformat": 4,
  "nbformat_minor": 0,
  "metadata": {
    "colab": {
      "name": "Rose_steven_python_1b.ipynb",
      "provenance": [],
      "collapsed_sections": [],
      "authorship_tag": "ABX9TyNFb0f1Y9XgaGXVcy8svQFb",
      "include_colab_link": true
    },
    "kernelspec": {
      "name": "python3",
      "display_name": "Python 3"
    },
    "language_info": {
      "name": "python"
    }
  },
  "cells": [
    {
      "cell_type": "markdown",
      "metadata": {
        "id": "view-in-github",
        "colab_type": "text"
      },
      "source": [
        "<a href=\"https://colab.research.google.com/github/roseboi94/techis-python-7days/blob/main/Rose_steven_python_1b.ipynb\" target=\"_parent\"><img src=\"https://colab.research.google.com/assets/colab-badge.svg\" alt=\"Open In Colab\"/></a>"
      ]
    },
    {
      "cell_type": "code",
      "execution_count": null,
      "metadata": {
        "id": "WeMJkzGrf7pK",
        "colab": {
          "base_uri": "https://localhost:8080/"
        },
        "outputId": "b76e9adf-eb76-498e-b0a9-84e6a075603a"
      },
      "outputs": [
        {
          "output_type": "stream",
          "name": "stdout",
          "text": [
            "Enter your First Name:  f\n",
            "Enter your Last Name:  g\n",
            "f\n",
            "g\n",
            "yello\n",
            "f g\n",
            "ffffff\n",
            "one \n",
            "one \n",
            "['banana', 'milk', 'watermelon']\n",
            "banana\n",
            "[['dogs', 'cats', 'hamsters'], ['green', 'yellow', 'red'], ['you shook me all night long', 'back in black', 'highway to hell']]\n"
          ]
        },
        {
          "output_type": "execute_result",
          "data": {
            "text/plain": [
              "[['dogs', 'cats', 'hamsters'],\n",
              " ['green', 'yellow', 'red'],\n",
              " ['you shook me all night long', 'back in black', 'highway to hell']]"
            ]
          },
          "metadata": {},
          "execution_count": 3
        }
      ],
      "source": [
        "# Excercise  1#\n",
        "first_name = input(\"Enter your First Name:  \")\n",
        "last_name = input(\"Enter your Last Name:  \")\n",
        "print(first_name) \n",
        "print(last_name)\n",
        "\n",
        "\n",
        "\n",
        "# Excercise  2#\n",
        "s = 'yello'\n",
        "x = 'w' + s[5:len(s)]\n",
        "print(s)\n",
        "# Excercise  3#\n",
        "\n",
        "\n",
        "print(first_name , last_name)\n",
        "\n",
        "\n",
        "# Excercise  4#\n",
        "name_thrice = first_name * 6\n",
        "print(name_thrice)\n",
        "\n",
        "\n",
        "\n",
        "# Excercise  5#\n",
        "string_value = (\"This is one sentence!\")\n",
        "\n",
        "print(string_value[8:12])\n",
        "\n",
        "# Excercise  6#\n",
        "\n",
        "print(string_value[8:12])\n",
        "\n",
        "\n",
        "# Excercise  7#\n",
        "grocery_list = [ \"banana\" , \"milk\" , \"watermelon\"]\n",
        "print(grocery_list)\n",
        "\n",
        "\n",
        "\n",
        "# Excercise  8#\n",
        "print(grocery_list[0])\n",
        "\n",
        "\n",
        "\n",
        "# Excercise 9 #\n",
        "nested_list = [[\"dogs\",\"cats\",\"hamsters\"],\n",
        "               [\"green\",\"yellow\",\"red\"],\n",
        "               [\"you shook me all night long\",\"back in black\",\"highway to hell\"],\n",
        "               ]\n",
        "\n",
        "print(nested_list)\n",
        "# Excercise 10 #\n",
        "nested_list.insert(3, 'almond')\n",
        "# Excercise  11#\n",
        "nested_list.remove\n",
        "# Excercise  12#\n",
        "\n",
        "nested_list.pop(3)\n",
        "\n",
        "# Excercise  13#\n",
        "\n",
        "list(nested_list)"
      ]
    }
  ]
}
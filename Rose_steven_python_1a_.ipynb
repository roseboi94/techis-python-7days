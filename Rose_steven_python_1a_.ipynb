{
  "nbformat": 4,
  "nbformat_minor": 0,
  "metadata": {
    "colab": {
      "name": "Rose_steven_python_1a .ipynb",
      "provenance": [],
      "authorship_tag": "ABX9TyO9akdPaPn8FNeZgq1gWENg",
      "include_colab_link": true
    },
    "kernelspec": {
      "name": "python3",
      "display_name": "Python 3"
    },
    "language_info": {
      "name": "python"
    }
  },
  "cells": [
    {
      "cell_type": "markdown",
      "metadata": {
        "id": "view-in-github",
        "colab_type": "text"
      },
      "source": [
        "<a href=\"https://colab.research.google.com/github/roseboi94/techis-python-7days/blob/main/Rose_steven_python_1a_.ipynb\" target=\"_parent\"><img src=\"https://colab.research.google.com/assets/colab-badge.svg\" alt=\"Open In Colab\"/></a>"
      ]
    },
    {
      "cell_type": "markdown",
      "source": [
        "Python 1_1a"
      ],
      "metadata": {
        "id": "2ayET9RvOori"
      }
    },
    {
      "cell_type": "code",
      "execution_count": 15,
      "metadata": {
        "colab": {
          "base_uri": "https://localhost:8080/"
        },
        "id": "eZbquctaOTjM",
        "outputId": "83fb6f10-19b5-4830-bfed-f377957956c6"
      },
      "outputs": [
        {
          "output_type": "stream",
          "name": "stdout",
          "text": [
            "I'm new to python!\n",
            "Whats your Age?28\n",
            "28\n",
            " What is your name: steven\n",
            "How old are you?: 28\n",
            "Hey steven I am glad you started to learn python at the age of 28\n",
            "4\n",
            "40\n",
            "1\n",
            "{'Jake': 70, 'Mako': 75, 'Alex': 78.5}\n",
            "(20, 50)\n"
          ]
        }
      ],
      "source": [
        "# Hello World #\n",
        "\n",
        "\n",
        "# Excercise: 1 #\n",
        "\n",
        "\n",
        "print(\"I'm new to python!\")\n",
        "# It is possible to write within my code blocks without python using #\n",
        "\n",
        "\n",
        "# Excercise 2 #\n",
        "\n",
        "'''It is possible to write within my \n",
        "code blocks without python using # '''\n",
        "\n",
        "# Excercise 3 #\n",
        "\n",
        "age = input(\"Whats your Age?\")\n",
        "print(age)\n",
        "\n",
        "\n",
        "# Excercise 4 #\n",
        "name = input(\" What is your name: \")\n",
        "age = input(\"How old are you?: \")\n",
        "\n",
        "print(\"Hey\" , name , \"I am glad you started to learn python at the age of\" , age)\n",
        "\n",
        "# Excercise 5 #\n",
        "discount = 43.8\n",
        "type(discount)\n",
        "height = 143\n",
        "type(height)\n",
        "address = \"#301, Pelican Street\"\n",
        "type(address)\n",
        "\n",
        "# Excercise 6 #\n",
        "my_favs = [\"green\" , \"Chinese food\" , \"Barstow\"]\n",
        "\n",
        "# Excercise 7#\n",
        "for x in (4 , 40 , 1):\n",
        " print(x)\n",
        "\n",
        "# Excercise 8 #\n",
        "\n",
        "student_score = {\"Jake\": 70, \"Mako\": 75, \"Alex\": 78.5, }\n",
        "print(student_score)\n",
        "# Excercise 9 #\n",
        "radius = 5\n",
        "pi = int(3.14)\n",
        "circle = pi*radius^2\n",
        "\n",
        "\n",
        "# Excercise 10 #\n",
        "x = circle\n",
        "\n",
        "if x >= 50:\n",
        "  print(\"It is higher than 50\")\n",
        "# Excercise 11 #\n",
        "\n",
        "else: circle = (20, 50)\n",
        "print(circle)"
      ]
    }
  ]
}